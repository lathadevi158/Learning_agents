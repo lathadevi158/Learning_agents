{
 "cells": [
  {
   "cell_type": "code",
   "execution_count": null,
   "id": "2f366277",
   "metadata": {},
   "outputs": [],
   "source": [
    "import warnings\n",
    "import json\n",
    "from langchain_openai import AzureChatOpenAI\n",
    "from langchain.prompts import PromptTemplate\n",
    "import ipywidgets as widgets\n",
    "from IPython.display import display, clear_output, HTML\n",
    "warnings.filterwarnings(\"ignore\", category=DeprecationWarning)"
   ]
  },
  {
   "cell_type": "code",
   "execution_count": null,
   "id": "f2501a70",
   "metadata": {},
   "outputs": [],
   "source": [
    "with open(r\"global_config.json\",\"r\") as fb:\n",
    "    global_config = json.load(fb)\n"
   ]
  },
  {
   "cell_type": "code",
   "execution_count": null,
   "id": "de785a3a",
   "metadata": {},
   "outputs": [],
   "source": [
    "#Initializing the llm\n",
    "llm = AzureChatOpenAI(\n",
    "    deployment_name=global_config[\"model_name\"],\n",
    "    openai_api_key=global_config[\"openai_api_key\"],\n",
    "    azure_endpoint=global_config[\"openai_api_base\"],\n",
    "    openai_api_version=global_config[\"openai_api_version\"],\n",
    "    temperature=0\n",
    ")"
   ]
  },
  {
   "cell_type": "code",
   "execution_count": null,
   "id": "b08ddb32",
   "metadata": {},
   "outputs": [],
   "source": [
    "user_conversations = {}  # Store user conversation history\n",
    "user_topics = {}  # Store user preferred genres\n",
    "\n",
    "genres = [\"Sci-Fi\", \"Horror\", \"Thriller\", \"Action\", \"Drama\", \"Comedy\", \"Fantasy\"]\n",
    "\n",
    "def update_user_history(user_id, message):\n",
    "    \"\"\"Stores the user's messages to maintain conversation history.\"\"\"\n",
    "    if user_id not in user_conversations:\n",
    "        user_conversations[user_id] = []\n",
    "    user_conversations[user_id].append(message)\n",
    "\n",
    "def determine_preferred_genres(user_id, message):\n",
    "    \"\"\" Determines preferred genres from user conversation. \"\"\"\n",
    "    if user_id not in user_topics:\n",
    "        user_topics[user_id] = set()\n",
    "    \n",
    "    detected_genres = {genre for genre in genres if genre.lower() in message.lower()}\n",
    "    if detected_genres:\n",
    "        user_topics[user_id].update(detected_genres)\n",
    "    \n",
    "    return user_topics[user_id]"
   ]
  },
  {
   "cell_type": "code",
   "execution_count": null,
   "id": "f9c0a73f",
   "metadata": {},
   "outputs": [],
   "source": [
    "prompt = PromptTemplate(\n",
    "    input_variables=[\"history\", \"message\", \"genres\"],\n",
    "    template=\"\"\"\n",
    "    You are a helpful chatbot that discusses movies. \n",
    "    The user has been talking about: {history}. \n",
    "    The genres they have discussed are: {genres}.\n",
    "    \n",
    "    If the user asks for recommendations, suggest popular movies from the discussed genres.\n",
    "    Otherwise, continue engaging with them in a meaningful way.\n",
    "    \n",
    "    Respond to: '{message}'\n",
    "    \"\"\"\n",
    ")\n",
    "\n",
    "chat_chain = prompt | llm  \n",
    "\n",
    "def get_chatbot_response(user_id, message):\n",
    "    \"\"\"Generates a chatbot response based on conversation history and user preferences.\"\"\"\n",
    "    update_user_history(user_id, message)\n",
    "    preferred_genres = determine_preferred_genres(user_id, message)\n",
    "    history = \" | \".join(user_conversations[user_id][-5:])  \n",
    "\n",
    "    response = chat_chain.invoke({\"history\": history, \"message\": message, \"genres\": list(preferred_genres)})\n",
    "    return response.content  \n"
   ]
  },
  {
   "cell_type": "code",
   "execution_count": null,
   "id": "d17f0f96",
   "metadata": {},
   "outputs": [],
   "source": [
    "# Create input box and button\n",
    "input_box = widgets.Text(placeholder=\"Type your message...\")\n",
    "send_button = widgets.Button(description=\"Send\")\n",
    "output_area = widgets.Output()\n",
    "\n",
    "user_id = \"user_123\"\n",
    "\n",
    "# Display chatbot's first message\n",
    "with output_area:\n",
    "    print(\"Chatbot: Hi! Let's chat about movies! Ask me about any genre.\")"
   ]
  },
  {
   "cell_type": "code",
   "execution_count": null,
   "id": "f5055d4c",
   "metadata": {},
   "outputs": [],
   "source": [
    "def on_send_message(change):\n",
    "    \"\"\"Handles user input, updates the UI, and manages chatbot interaction.\"\"\"\n",
    "    user_input = input_box.value.strip()\n",
    "    input_box.value = \"\"  # Clear input field\n",
    "    \n",
    "    if user_input.lower() == \"exit\":\n",
    "        with output_area:\n",
    "            print(\"Chatbot: Goodbye! Have a great day!\")\n",
    "        send_button.disabled = True  # Disable further input\n",
    "        return\n",
    "    \n",
    "    response = get_chatbot_response(user_id, user_input)\n",
    "    \n",
    "    # Display conversation\n",
    "    with output_area:\n",
    "        print(f\"🧑‍💻YOU: {user_input}\")\n",
    "        print(f\"🤖CHATBOT: {response}\")\n",
    "        print(\"-----------------------------------------------\")\n"
   ]
  },
  {
   "cell_type": "code",
   "execution_count": null,
   "id": "e89fad7d",
   "metadata": {},
   "outputs": [],
   "source": [
    "# Attach event listener to the button\n",
    "send_button.on_click(on_send_message)\n",
    "\n",
    "# Display UI elements\n",
    "display(output_area, input_box, send_button)"
   ]
  }
 ],
 "metadata": {
  "kernelspec": {
   "display_name": "Python 3",
   "language": "python",
   "name": "python3"
  },
  "language_info": {
   "name": "python",
   "version": "3.11.5"
  }
 },
 "nbformat": 4,
 "nbformat_minor": 5
}
